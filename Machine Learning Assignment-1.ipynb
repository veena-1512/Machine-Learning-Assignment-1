{
 "cells": [
  {
   "cell_type": "markdown",
   "id": "f960be97-4c4f-4947-8bf5-e8f3fba42682",
   "metadata": {},
   "source": [
    "Q1. In short, machine learning is AI that can automatically adapt with minimal human interference. Deep learning is a subset of machine learning that uses artificial neural networks to mimic the learning process of the human brain."
   ]
  },
  {
   "cell_type": "markdown",
   "id": "b4e8637c-21c6-4948-94aa-ca220f25c422",
   "metadata": {},
   "source": [
    "Q2.Supervised learning is a machine learning method in which models are trained using labeled data. In supervised learning, models need to find the mapping function to map the input variable (X) with the output variable (Y).\n",
    "\n",
    "Supervised Machine learning\n",
    "Supervised learning needs supervision to train the model, which is similar to as a student learns things in the presence of a teacher. Supervised learning can be used for two types of problems: Classification and Regression.\n",
    "\n",
    "Example: Suppose we have an image of different types of fruits. The task of our supervised learning model is to identify the fruits and classify them accordingly. So to identify the image in supervised learning, we will give the input data as well as output for that, which means we will train the model by the shape, size, color, and taste of each fruit. Once the training is completed, we will test the model by giving the new set of fruit. The model will identify the fruit and predict the output using a suitable algorithm."
   ]
  },
  {
   "cell_type": "markdown",
   "id": "945e755d-e594-4df9-8269-1728c7359070",
   "metadata": {},
   "source": [
    "Q3. Unsupervised learning is a type of machine learning in which models are trained using unlabeled dataset and are allowed to act on that data without any supervision.\n",
    "\n",
    "Unsupervised learning cannot be directly applied to a regression or classification problem because unlike supervised learning, we have the input data but no corresponding output data. The goal of unsupervised learning is to find the underlying structure of dataset, group that data according to similarities, and represent that dataset in a compressed format.\n",
    "\n",
    "Example: Suppose the unsupervised learning algorithm is given an input dataset containing images of different types of cats and dogs. The algorithm is never trained upon the given dataset, which means it does not have any idea about the features of the dataset. The task of the unsupervised learning algorithm is to identify the image features on their own. Unsupervised learning algorithm will perform this task by clustering the image dataset into the groups according to similarities between images."
   ]
  },
  {
   "cell_type": "markdown",
   "id": "ae1c686b-ee2e-467e-bcfe-849981694ccd",
   "metadata": {},
   "source": [
    "Q4. Machine Learning (ML) is commonly used along with AI but it is a subset of AI. ML refers to an AI system that can self-learn based on the algorithm. Systems that get smarter and smarter over time without human intervention is ML. Deep Learning (DL) is a machine learning (ML) applied to large data sets.\n"
   ]
  },
  {
   "cell_type": "markdown",
   "id": "d05baeb4-faa5-4ec8-893e-99c1fed8fc53",
   "metadata": {},
   "source": [
    "Q5.  i. Supervised Learning\n",
    "\n",
    "Input data is labeled.\n",
    "Used for prediction and classification models.\n",
    "It takes direct feedback of the output.\n",
    "These models predict the output.\n",
    "It can be used in cases where we know the input and their respective outputs.\n",
    "\n",
    "\n",
    "Unsupervised learning\n",
    "Input data is unlabeled.\n",
    "Used for extracting information from large amounts of data.\n",
    "Does not have a feedback mechanism.\n",
    "These models find underlying patterns in data.\n",
    "We can use these models where we only know the input data and do not have the knowledge of the corresponding output.\n",
    "\n",
    "\n",
    "Semi-Supervised learning\n",
    "A large amount of input data is unlabeled while a small amount is labeled.\n",
    "It is used when labeling the whole dataset is expensive.\n",
    "It is a type of weak supervision.\n"
   ]
  },
  {
   "cell_type": "markdown",
   "id": "7341edc9-a655-4610-afe1-981e9710dfd4",
   "metadata": {},
   "source": [
    "Q6. The train-test split procedure is used to estimate the performance of machine learning algorithms when they are used to make predictions on data not used to train the model. Splitting your dataset is essential for an unbiased evaluation of prediction performance.\n",
    "\n",
    "Train/Test is a method to measure the accuracy of your model. It is called Train/Test because you split the data set into two sets: a training set and a testing set. 80% for training, and 20% for testing. You train the model using the training set.\n",
    "\n",
    "The training set is used to fit the model parameters, the validation set is used to tune model hyperparameters. Finally, we use the test set to evaluate the best model.\n",
    "\n",
    " The train-test split is a technique for evaluating the performance of a machine learning algorithm."
   ]
  },
  {
   "cell_type": "markdown",
   "id": "da25cf1f-32c1-4570-9615-01e83957f3b1",
   "metadata": {},
   "source": [
    "Q7. Anomaly detection techniques of unsupervised nature assume that normal data points occur considerably more frequently than anomalous data points. This assumption is used to classify data points that occur less frequently as anomalies. Unsupervised techniques assign each data point a score instead of a label."
   ]
  },
  {
   "cell_type": "markdown",
   "id": "fcc08a99-a222-4a9e-83f9-a5b73bd2f35f",
   "metadata": {},
   "source": [
    "Q8. The most commonly used Supervised Learning algorithms are:-\n",
    "\n",
    "decision tree\n",
    "\n",
    "logistic regression\n",
    "\n",
    "linear regression\n",
    "\n",
    "support vector machine. \n",
    "\n",
    "The most commonly used Unsupervised Learning algorithms are:-\n",
    "\n",
    "k-means clustering \n",
    "hierarchical clustering \n",
    "Apriori algorithm."
   ]
  },
  {
   "cell_type": "code",
   "execution_count": null,
   "id": "55129fea-0b5c-4323-a02e-27609372ef8b",
   "metadata": {},
   "outputs": [],
   "source": []
  }
 ],
 "metadata": {
  "kernelspec": {
   "display_name": "Python 3 (ipykernel)",
   "language": "python",
   "name": "python3"
  },
  "language_info": {
   "codemirror_mode": {
    "name": "ipython",
    "version": 3
   },
   "file_extension": ".py",
   "mimetype": "text/x-python",
   "name": "python",
   "nbconvert_exporter": "python",
   "pygments_lexer": "ipython3",
   "version": "3.10.8"
  }
 },
 "nbformat": 4,
 "nbformat_minor": 5
}
